{
  "nbformat": 4,
  "nbformat_minor": 0,
  "metadata": {
    "colab": {
      "provenance": []
    },
    "kernelspec": {
      "name": "python3",
      "display_name": "Python 3"
    },
    "language_info": {
      "name": "python"
    }
  },
  "cells": [
    {
      "cell_type": "markdown",
      "source": [
        "## Purpose of this lecture\n",
        "This lecture serves as \n",
        "1. prepare you for the coding-intensive DEAC 108.\n",
        "2. an overview of what we will cover in DEAC 108.\n",
        "\n",
        "## Dataset: \n",
        "https://archive.ics.uci.edu/ml/datasets/Adult\n",
        "\n",
        "## Scheduling:\n",
        "\n",
        "### Session 1: \n",
        "Steps to do upon receiving a dataset\n",
        "Basic data cleaning\n",
        "\n",
        "### Session 2:\n",
        "Descriptive data analysis and how to interpret the results\n",
        "\n",
        "### Session 3:\n",
        "Quick overview of each topic in the syllabus"
      ],
      "metadata": {
        "id": "8ePs7eqiDf87"
      }
    },
    {
      "cell_type": "code",
      "execution_count": 17,
      "metadata": {
        "id": "tsO1S3siAB6D"
      },
      "outputs": [],
      "source": [
        "import numpy as np\n",
        "import pandas as pd\n",
        "import matplotlib.pyplot as plt\n",
        "import seaborn as sns"
      ]
    },
    {
      "cell_type": "code",
      "source": [
        "# Import the dataset\n",
        "adult = pd.read_csv('https://archive.ics.uci.edu/ml/machine-learning-databases/adult/adult.data')\n",
        "col_names = ['age',\n",
        "             'workclass',\n",
        "             'fnlwgt',\n",
        "             'education',\n",
        "             'education-num',\n",
        "             'marital-status',\n",
        "             'occupation',\n",
        "             'relationship',\n",
        "             'race',\n",
        "             'sex',\n",
        "             'capital-gain',\n",
        "             'capital-loss',\n",
        "             'hours-per-week',\n",
        "             'native-country',\n",
        "             '<=50K']"
      ],
      "metadata": {
        "id": "dmgO0TOFA1Ln"
      },
      "execution_count": 15,
      "outputs": []
    },
    {
      "cell_type": "markdown",
      "source": [
        "## Task one: Read the dataset description and share your finding."
      ],
      "metadata": {
        "id": "nbPQm7AmEnjK"
      }
    },
    {
      "cell_type": "code",
      "source": [
        "adult.columns = col_names\n",
        "adult.head()"
      ],
      "metadata": {
        "colab": {
          "base_uri": "https://localhost:8080/",
          "height": 206
        },
        "id": "uW7h6XIpA6OP",
        "outputId": "946108c8-5e30-4dd5-b25f-c7553fcebdb2"
      },
      "execution_count": 16,
      "outputs": [
        {
          "output_type": "execute_result",
          "data": {
            "text/plain": [
              "   age          workclass  fnlwgt   education  education-num  \\\n",
              "0   50   Self-emp-not-inc   83311   Bachelors             13   \n",
              "1   38            Private  215646     HS-grad              9   \n",
              "2   53            Private  234721        11th              7   \n",
              "3   28            Private  338409   Bachelors             13   \n",
              "4   37            Private  284582     Masters             14   \n",
              "\n",
              "        marital-status          occupation    relationship    race      sex  \\\n",
              "0   Married-civ-spouse     Exec-managerial         Husband   White     Male   \n",
              "1             Divorced   Handlers-cleaners   Not-in-family   White     Male   \n",
              "2   Married-civ-spouse   Handlers-cleaners         Husband   Black     Male   \n",
              "3   Married-civ-spouse      Prof-specialty            Wife   Black   Female   \n",
              "4   Married-civ-spouse     Exec-managerial            Wife   White   Female   \n",
              "\n",
              "   capital-gain  capital-loss  hours-per-week  native-country   <=50K  \n",
              "0             0             0              13   United-States   <=50K  \n",
              "1             0             0              40   United-States   <=50K  \n",
              "2             0             0              40   United-States   <=50K  \n",
              "3             0             0              40            Cuba   <=50K  \n",
              "4             0             0              40   United-States   <=50K  "
            ],
            "text/html": [
              "\n",
              "  <div id=\"df-7cbccc03-f658-40d6-8325-a6a0f9e89108\">\n",
              "    <div class=\"colab-df-container\">\n",
              "      <div>\n",
              "<style scoped>\n",
              "    .dataframe tbody tr th:only-of-type {\n",
              "        vertical-align: middle;\n",
              "    }\n",
              "\n",
              "    .dataframe tbody tr th {\n",
              "        vertical-align: top;\n",
              "    }\n",
              "\n",
              "    .dataframe thead th {\n",
              "        text-align: right;\n",
              "    }\n",
              "</style>\n",
              "<table border=\"1\" class=\"dataframe\">\n",
              "  <thead>\n",
              "    <tr style=\"text-align: right;\">\n",
              "      <th></th>\n",
              "      <th>age</th>\n",
              "      <th>workclass</th>\n",
              "      <th>fnlwgt</th>\n",
              "      <th>education</th>\n",
              "      <th>education-num</th>\n",
              "      <th>marital-status</th>\n",
              "      <th>occupation</th>\n",
              "      <th>relationship</th>\n",
              "      <th>race</th>\n",
              "      <th>sex</th>\n",
              "      <th>capital-gain</th>\n",
              "      <th>capital-loss</th>\n",
              "      <th>hours-per-week</th>\n",
              "      <th>native-country</th>\n",
              "      <th>&lt;=50K</th>\n",
              "    </tr>\n",
              "  </thead>\n",
              "  <tbody>\n",
              "    <tr>\n",
              "      <th>0</th>\n",
              "      <td>50</td>\n",
              "      <td>Self-emp-not-inc</td>\n",
              "      <td>83311</td>\n",
              "      <td>Bachelors</td>\n",
              "      <td>13</td>\n",
              "      <td>Married-civ-spouse</td>\n",
              "      <td>Exec-managerial</td>\n",
              "      <td>Husband</td>\n",
              "      <td>White</td>\n",
              "      <td>Male</td>\n",
              "      <td>0</td>\n",
              "      <td>0</td>\n",
              "      <td>13</td>\n",
              "      <td>United-States</td>\n",
              "      <td>&lt;=50K</td>\n",
              "    </tr>\n",
              "    <tr>\n",
              "      <th>1</th>\n",
              "      <td>38</td>\n",
              "      <td>Private</td>\n",
              "      <td>215646</td>\n",
              "      <td>HS-grad</td>\n",
              "      <td>9</td>\n",
              "      <td>Divorced</td>\n",
              "      <td>Handlers-cleaners</td>\n",
              "      <td>Not-in-family</td>\n",
              "      <td>White</td>\n",
              "      <td>Male</td>\n",
              "      <td>0</td>\n",
              "      <td>0</td>\n",
              "      <td>40</td>\n",
              "      <td>United-States</td>\n",
              "      <td>&lt;=50K</td>\n",
              "    </tr>\n",
              "    <tr>\n",
              "      <th>2</th>\n",
              "      <td>53</td>\n",
              "      <td>Private</td>\n",
              "      <td>234721</td>\n",
              "      <td>11th</td>\n",
              "      <td>7</td>\n",
              "      <td>Married-civ-spouse</td>\n",
              "      <td>Handlers-cleaners</td>\n",
              "      <td>Husband</td>\n",
              "      <td>Black</td>\n",
              "      <td>Male</td>\n",
              "      <td>0</td>\n",
              "      <td>0</td>\n",
              "      <td>40</td>\n",
              "      <td>United-States</td>\n",
              "      <td>&lt;=50K</td>\n",
              "    </tr>\n",
              "    <tr>\n",
              "      <th>3</th>\n",
              "      <td>28</td>\n",
              "      <td>Private</td>\n",
              "      <td>338409</td>\n",
              "      <td>Bachelors</td>\n",
              "      <td>13</td>\n",
              "      <td>Married-civ-spouse</td>\n",
              "      <td>Prof-specialty</td>\n",
              "      <td>Wife</td>\n",
              "      <td>Black</td>\n",
              "      <td>Female</td>\n",
              "      <td>0</td>\n",
              "      <td>0</td>\n",
              "      <td>40</td>\n",
              "      <td>Cuba</td>\n",
              "      <td>&lt;=50K</td>\n",
              "    </tr>\n",
              "    <tr>\n",
              "      <th>4</th>\n",
              "      <td>37</td>\n",
              "      <td>Private</td>\n",
              "      <td>284582</td>\n",
              "      <td>Masters</td>\n",
              "      <td>14</td>\n",
              "      <td>Married-civ-spouse</td>\n",
              "      <td>Exec-managerial</td>\n",
              "      <td>Wife</td>\n",
              "      <td>White</td>\n",
              "      <td>Female</td>\n",
              "      <td>0</td>\n",
              "      <td>0</td>\n",
              "      <td>40</td>\n",
              "      <td>United-States</td>\n",
              "      <td>&lt;=50K</td>\n",
              "    </tr>\n",
              "  </tbody>\n",
              "</table>\n",
              "</div>\n",
              "      <button class=\"colab-df-convert\" onclick=\"convertToInteractive('df-7cbccc03-f658-40d6-8325-a6a0f9e89108')\"\n",
              "              title=\"Convert this dataframe to an interactive table.\"\n",
              "              style=\"display:none;\">\n",
              "        \n",
              "  <svg xmlns=\"http://www.w3.org/2000/svg\" height=\"24px\"viewBox=\"0 0 24 24\"\n",
              "       width=\"24px\">\n",
              "    <path d=\"M0 0h24v24H0V0z\" fill=\"none\"/>\n",
              "    <path d=\"M18.56 5.44l.94 2.06.94-2.06 2.06-.94-2.06-.94-.94-2.06-.94 2.06-2.06.94zm-11 1L8.5 8.5l.94-2.06 2.06-.94-2.06-.94L8.5 2.5l-.94 2.06-2.06.94zm10 10l.94 2.06.94-2.06 2.06-.94-2.06-.94-.94-2.06-.94 2.06-2.06.94z\"/><path d=\"M17.41 7.96l-1.37-1.37c-.4-.4-.92-.59-1.43-.59-.52 0-1.04.2-1.43.59L10.3 9.45l-7.72 7.72c-.78.78-.78 2.05 0 2.83L4 21.41c.39.39.9.59 1.41.59.51 0 1.02-.2 1.41-.59l7.78-7.78 2.81-2.81c.8-.78.8-2.07 0-2.86zM5.41 20L4 18.59l7.72-7.72 1.47 1.35L5.41 20z\"/>\n",
              "  </svg>\n",
              "      </button>\n",
              "      \n",
              "  <style>\n",
              "    .colab-df-container {\n",
              "      display:flex;\n",
              "      flex-wrap:wrap;\n",
              "      gap: 12px;\n",
              "    }\n",
              "\n",
              "    .colab-df-convert {\n",
              "      background-color: #E8F0FE;\n",
              "      border: none;\n",
              "      border-radius: 50%;\n",
              "      cursor: pointer;\n",
              "      display: none;\n",
              "      fill: #1967D2;\n",
              "      height: 32px;\n",
              "      padding: 0 0 0 0;\n",
              "      width: 32px;\n",
              "    }\n",
              "\n",
              "    .colab-df-convert:hover {\n",
              "      background-color: #E2EBFA;\n",
              "      box-shadow: 0px 1px 2px rgba(60, 64, 67, 0.3), 0px 1px 3px 1px rgba(60, 64, 67, 0.15);\n",
              "      fill: #174EA6;\n",
              "    }\n",
              "\n",
              "    [theme=dark] .colab-df-convert {\n",
              "      background-color: #3B4455;\n",
              "      fill: #D2E3FC;\n",
              "    }\n",
              "\n",
              "    [theme=dark] .colab-df-convert:hover {\n",
              "      background-color: #434B5C;\n",
              "      box-shadow: 0px 1px 3px 1px rgba(0, 0, 0, 0.15);\n",
              "      filter: drop-shadow(0px 1px 2px rgba(0, 0, 0, 0.3));\n",
              "      fill: #FFFFFF;\n",
              "    }\n",
              "  </style>\n",
              "\n",
              "      <script>\n",
              "        const buttonEl =\n",
              "          document.querySelector('#df-7cbccc03-f658-40d6-8325-a6a0f9e89108 button.colab-df-convert');\n",
              "        buttonEl.style.display =\n",
              "          google.colab.kernel.accessAllowed ? 'block' : 'none';\n",
              "\n",
              "        async function convertToInteractive(key) {\n",
              "          const element = document.querySelector('#df-7cbccc03-f658-40d6-8325-a6a0f9e89108');\n",
              "          const dataTable =\n",
              "            await google.colab.kernel.invokeFunction('convertToInteractive',\n",
              "                                                     [key], {});\n",
              "          if (!dataTable) return;\n",
              "\n",
              "          const docLinkHtml = 'Like what you see? Visit the ' +\n",
              "            '<a target=\"_blank\" href=https://colab.research.google.com/notebooks/data_table.ipynb>data table notebook</a>'\n",
              "            + ' to learn more about interactive tables.';\n",
              "          element.innerHTML = '';\n",
              "          dataTable['output_type'] = 'display_data';\n",
              "          await google.colab.output.renderOutput(dataTable, element);\n",
              "          const docLink = document.createElement('div');\n",
              "          docLink.innerHTML = docLinkHtml;\n",
              "          element.appendChild(docLink);\n",
              "        }\n",
              "      </script>\n",
              "    </div>\n",
              "  </div>\n",
              "  "
            ]
          },
          "metadata": {},
          "execution_count": 16
        }
      ]
    },
    {
      "cell_type": "markdown",
      "source": [
        "## Run Description\n",
        "\n",
        "1. Finding nulls\n",
        "2. Finding distribution for each column about \n",
        "3. Formulating the plan of data pre-processing. **Always keep your downstream tasks in mind**.\n",
        "\n",
        "# Always, always keep your analysis [reproducible](https://en.wikipedia.org/wiki/Reproducibility)."
      ],
      "metadata": {
        "id": "hiiSxT0sBtRk"
      }
    },
    {
      "cell_type": "code",
      "source": [
        "adult.describe(include='all')"
      ],
      "metadata": {
        "colab": {
          "base_uri": "https://localhost:8080/",
          "height": 394
        },
        "id": "gBKDY52_Bw56",
        "outputId": "6b32f4f5-cf80-4765-ff60-373cf34bc9ab"
      },
      "execution_count": 19,
      "outputs": [
        {
          "output_type": "execute_result",
          "data": {
            "text/plain": [
              "                 age workclass        fnlwgt education  education-num  \\\n",
              "count   32560.000000     32560  3.256000e+04     32560   32560.000000   \n",
              "unique           NaN         9           NaN        16            NaN   \n",
              "top              NaN   Private           NaN   HS-grad            NaN   \n",
              "freq             NaN     22696           NaN     10501            NaN   \n",
              "mean       38.581634       NaN  1.897818e+05       NaN      10.080590   \n",
              "std        13.640642       NaN  1.055498e+05       NaN       2.572709   \n",
              "min        17.000000       NaN  1.228500e+04       NaN       1.000000   \n",
              "25%        28.000000       NaN  1.178315e+05       NaN       9.000000   \n",
              "50%        37.000000       NaN  1.783630e+05       NaN      10.000000   \n",
              "75%        48.000000       NaN  2.370545e+05       NaN      12.000000   \n",
              "max        90.000000       NaN  1.484705e+06       NaN      16.000000   \n",
              "\n",
              "             marital-status       occupation relationship    race    sex  \\\n",
              "count                 32560            32560        32560   32560  32560   \n",
              "unique                    7               15            6       5      2   \n",
              "top      Married-civ-spouse   Prof-specialty      Husband   White   Male   \n",
              "freq                  14976             4140        13193   27815  21789   \n",
              "mean                    NaN              NaN          NaN     NaN    NaN   \n",
              "std                     NaN              NaN          NaN     NaN    NaN   \n",
              "min                     NaN              NaN          NaN     NaN    NaN   \n",
              "25%                     NaN              NaN          NaN     NaN    NaN   \n",
              "50%                     NaN              NaN          NaN     NaN    NaN   \n",
              "75%                     NaN              NaN          NaN     NaN    NaN   \n",
              "max                     NaN              NaN          NaN     NaN    NaN   \n",
              "\n",
              "        capital-gain  capital-loss  hours-per-week  native-country   <=50K  \n",
              "count   32560.000000  32560.000000    32560.000000           32560   32560  \n",
              "unique           NaN           NaN             NaN              42       2  \n",
              "top              NaN           NaN             NaN   United-States   <=50K  \n",
              "freq             NaN           NaN             NaN           29169   24719  \n",
              "mean     1077.615172     87.306511       40.437469             NaN     NaN  \n",
              "std      7385.402999    402.966116       12.347618             NaN     NaN  \n",
              "min         0.000000      0.000000        1.000000             NaN     NaN  \n",
              "25%         0.000000      0.000000       40.000000             NaN     NaN  \n",
              "50%         0.000000      0.000000       40.000000             NaN     NaN  \n",
              "75%         0.000000      0.000000       45.000000             NaN     NaN  \n",
              "max     99999.000000   4356.000000       99.000000             NaN     NaN  "
            ],
            "text/html": [
              "\n",
              "  <div id=\"df-99d67572-ae58-4c71-b05e-dd2aa8ade84c\">\n",
              "    <div class=\"colab-df-container\">\n",
              "      <div>\n",
              "<style scoped>\n",
              "    .dataframe tbody tr th:only-of-type {\n",
              "        vertical-align: middle;\n",
              "    }\n",
              "\n",
              "    .dataframe tbody tr th {\n",
              "        vertical-align: top;\n",
              "    }\n",
              "\n",
              "    .dataframe thead th {\n",
              "        text-align: right;\n",
              "    }\n",
              "</style>\n",
              "<table border=\"1\" class=\"dataframe\">\n",
              "  <thead>\n",
              "    <tr style=\"text-align: right;\">\n",
              "      <th></th>\n",
              "      <th>age</th>\n",
              "      <th>workclass</th>\n",
              "      <th>fnlwgt</th>\n",
              "      <th>education</th>\n",
              "      <th>education-num</th>\n",
              "      <th>marital-status</th>\n",
              "      <th>occupation</th>\n",
              "      <th>relationship</th>\n",
              "      <th>race</th>\n",
              "      <th>sex</th>\n",
              "      <th>capital-gain</th>\n",
              "      <th>capital-loss</th>\n",
              "      <th>hours-per-week</th>\n",
              "      <th>native-country</th>\n",
              "      <th>&lt;=50K</th>\n",
              "    </tr>\n",
              "  </thead>\n",
              "  <tbody>\n",
              "    <tr>\n",
              "      <th>count</th>\n",
              "      <td>32560.000000</td>\n",
              "      <td>32560</td>\n",
              "      <td>3.256000e+04</td>\n",
              "      <td>32560</td>\n",
              "      <td>32560.000000</td>\n",
              "      <td>32560</td>\n",
              "      <td>32560</td>\n",
              "      <td>32560</td>\n",
              "      <td>32560</td>\n",
              "      <td>32560</td>\n",
              "      <td>32560.000000</td>\n",
              "      <td>32560.000000</td>\n",
              "      <td>32560.000000</td>\n",
              "      <td>32560</td>\n",
              "      <td>32560</td>\n",
              "    </tr>\n",
              "    <tr>\n",
              "      <th>unique</th>\n",
              "      <td>NaN</td>\n",
              "      <td>9</td>\n",
              "      <td>NaN</td>\n",
              "      <td>16</td>\n",
              "      <td>NaN</td>\n",
              "      <td>7</td>\n",
              "      <td>15</td>\n",
              "      <td>6</td>\n",
              "      <td>5</td>\n",
              "      <td>2</td>\n",
              "      <td>NaN</td>\n",
              "      <td>NaN</td>\n",
              "      <td>NaN</td>\n",
              "      <td>42</td>\n",
              "      <td>2</td>\n",
              "    </tr>\n",
              "    <tr>\n",
              "      <th>top</th>\n",
              "      <td>NaN</td>\n",
              "      <td>Private</td>\n",
              "      <td>NaN</td>\n",
              "      <td>HS-grad</td>\n",
              "      <td>NaN</td>\n",
              "      <td>Married-civ-spouse</td>\n",
              "      <td>Prof-specialty</td>\n",
              "      <td>Husband</td>\n",
              "      <td>White</td>\n",
              "      <td>Male</td>\n",
              "      <td>NaN</td>\n",
              "      <td>NaN</td>\n",
              "      <td>NaN</td>\n",
              "      <td>United-States</td>\n",
              "      <td>&lt;=50K</td>\n",
              "    </tr>\n",
              "    <tr>\n",
              "      <th>freq</th>\n",
              "      <td>NaN</td>\n",
              "      <td>22696</td>\n",
              "      <td>NaN</td>\n",
              "      <td>10501</td>\n",
              "      <td>NaN</td>\n",
              "      <td>14976</td>\n",
              "      <td>4140</td>\n",
              "      <td>13193</td>\n",
              "      <td>27815</td>\n",
              "      <td>21789</td>\n",
              "      <td>NaN</td>\n",
              "      <td>NaN</td>\n",
              "      <td>NaN</td>\n",
              "      <td>29169</td>\n",
              "      <td>24719</td>\n",
              "    </tr>\n",
              "    <tr>\n",
              "      <th>mean</th>\n",
              "      <td>38.581634</td>\n",
              "      <td>NaN</td>\n",
              "      <td>1.897818e+05</td>\n",
              "      <td>NaN</td>\n",
              "      <td>10.080590</td>\n",
              "      <td>NaN</td>\n",
              "      <td>NaN</td>\n",
              "      <td>NaN</td>\n",
              "      <td>NaN</td>\n",
              "      <td>NaN</td>\n",
              "      <td>1077.615172</td>\n",
              "      <td>87.306511</td>\n",
              "      <td>40.437469</td>\n",
              "      <td>NaN</td>\n",
              "      <td>NaN</td>\n",
              "    </tr>\n",
              "    <tr>\n",
              "      <th>std</th>\n",
              "      <td>13.640642</td>\n",
              "      <td>NaN</td>\n",
              "      <td>1.055498e+05</td>\n",
              "      <td>NaN</td>\n",
              "      <td>2.572709</td>\n",
              "      <td>NaN</td>\n",
              "      <td>NaN</td>\n",
              "      <td>NaN</td>\n",
              "      <td>NaN</td>\n",
              "      <td>NaN</td>\n",
              "      <td>7385.402999</td>\n",
              "      <td>402.966116</td>\n",
              "      <td>12.347618</td>\n",
              "      <td>NaN</td>\n",
              "      <td>NaN</td>\n",
              "    </tr>\n",
              "    <tr>\n",
              "      <th>min</th>\n",
              "      <td>17.000000</td>\n",
              "      <td>NaN</td>\n",
              "      <td>1.228500e+04</td>\n",
              "      <td>NaN</td>\n",
              "      <td>1.000000</td>\n",
              "      <td>NaN</td>\n",
              "      <td>NaN</td>\n",
              "      <td>NaN</td>\n",
              "      <td>NaN</td>\n",
              "      <td>NaN</td>\n",
              "      <td>0.000000</td>\n",
              "      <td>0.000000</td>\n",
              "      <td>1.000000</td>\n",
              "      <td>NaN</td>\n",
              "      <td>NaN</td>\n",
              "    </tr>\n",
              "    <tr>\n",
              "      <th>25%</th>\n",
              "      <td>28.000000</td>\n",
              "      <td>NaN</td>\n",
              "      <td>1.178315e+05</td>\n",
              "      <td>NaN</td>\n",
              "      <td>9.000000</td>\n",
              "      <td>NaN</td>\n",
              "      <td>NaN</td>\n",
              "      <td>NaN</td>\n",
              "      <td>NaN</td>\n",
              "      <td>NaN</td>\n",
              "      <td>0.000000</td>\n",
              "      <td>0.000000</td>\n",
              "      <td>40.000000</td>\n",
              "      <td>NaN</td>\n",
              "      <td>NaN</td>\n",
              "    </tr>\n",
              "    <tr>\n",
              "      <th>50%</th>\n",
              "      <td>37.000000</td>\n",
              "      <td>NaN</td>\n",
              "      <td>1.783630e+05</td>\n",
              "      <td>NaN</td>\n",
              "      <td>10.000000</td>\n",
              "      <td>NaN</td>\n",
              "      <td>NaN</td>\n",
              "      <td>NaN</td>\n",
              "      <td>NaN</td>\n",
              "      <td>NaN</td>\n",
              "      <td>0.000000</td>\n",
              "      <td>0.000000</td>\n",
              "      <td>40.000000</td>\n",
              "      <td>NaN</td>\n",
              "      <td>NaN</td>\n",
              "    </tr>\n",
              "    <tr>\n",
              "      <th>75%</th>\n",
              "      <td>48.000000</td>\n",
              "      <td>NaN</td>\n",
              "      <td>2.370545e+05</td>\n",
              "      <td>NaN</td>\n",
              "      <td>12.000000</td>\n",
              "      <td>NaN</td>\n",
              "      <td>NaN</td>\n",
              "      <td>NaN</td>\n",
              "      <td>NaN</td>\n",
              "      <td>NaN</td>\n",
              "      <td>0.000000</td>\n",
              "      <td>0.000000</td>\n",
              "      <td>45.000000</td>\n",
              "      <td>NaN</td>\n",
              "      <td>NaN</td>\n",
              "    </tr>\n",
              "    <tr>\n",
              "      <th>max</th>\n",
              "      <td>90.000000</td>\n",
              "      <td>NaN</td>\n",
              "      <td>1.484705e+06</td>\n",
              "      <td>NaN</td>\n",
              "      <td>16.000000</td>\n",
              "      <td>NaN</td>\n",
              "      <td>NaN</td>\n",
              "      <td>NaN</td>\n",
              "      <td>NaN</td>\n",
              "      <td>NaN</td>\n",
              "      <td>99999.000000</td>\n",
              "      <td>4356.000000</td>\n",
              "      <td>99.000000</td>\n",
              "      <td>NaN</td>\n",
              "      <td>NaN</td>\n",
              "    </tr>\n",
              "  </tbody>\n",
              "</table>\n",
              "</div>\n",
              "      <button class=\"colab-df-convert\" onclick=\"convertToInteractive('df-99d67572-ae58-4c71-b05e-dd2aa8ade84c')\"\n",
              "              title=\"Convert this dataframe to an interactive table.\"\n",
              "              style=\"display:none;\">\n",
              "        \n",
              "  <svg xmlns=\"http://www.w3.org/2000/svg\" height=\"24px\"viewBox=\"0 0 24 24\"\n",
              "       width=\"24px\">\n",
              "    <path d=\"M0 0h24v24H0V0z\" fill=\"none\"/>\n",
              "    <path d=\"M18.56 5.44l.94 2.06.94-2.06 2.06-.94-2.06-.94-.94-2.06-.94 2.06-2.06.94zm-11 1L8.5 8.5l.94-2.06 2.06-.94-2.06-.94L8.5 2.5l-.94 2.06-2.06.94zm10 10l.94 2.06.94-2.06 2.06-.94-2.06-.94-.94-2.06-.94 2.06-2.06.94z\"/><path d=\"M17.41 7.96l-1.37-1.37c-.4-.4-.92-.59-1.43-.59-.52 0-1.04.2-1.43.59L10.3 9.45l-7.72 7.72c-.78.78-.78 2.05 0 2.83L4 21.41c.39.39.9.59 1.41.59.51 0 1.02-.2 1.41-.59l7.78-7.78 2.81-2.81c.8-.78.8-2.07 0-2.86zM5.41 20L4 18.59l7.72-7.72 1.47 1.35L5.41 20z\"/>\n",
              "  </svg>\n",
              "      </button>\n",
              "      \n",
              "  <style>\n",
              "    .colab-df-container {\n",
              "      display:flex;\n",
              "      flex-wrap:wrap;\n",
              "      gap: 12px;\n",
              "    }\n",
              "\n",
              "    .colab-df-convert {\n",
              "      background-color: #E8F0FE;\n",
              "      border: none;\n",
              "      border-radius: 50%;\n",
              "      cursor: pointer;\n",
              "      display: none;\n",
              "      fill: #1967D2;\n",
              "      height: 32px;\n",
              "      padding: 0 0 0 0;\n",
              "      width: 32px;\n",
              "    }\n",
              "\n",
              "    .colab-df-convert:hover {\n",
              "      background-color: #E2EBFA;\n",
              "      box-shadow: 0px 1px 2px rgba(60, 64, 67, 0.3), 0px 1px 3px 1px rgba(60, 64, 67, 0.15);\n",
              "      fill: #174EA6;\n",
              "    }\n",
              "\n",
              "    [theme=dark] .colab-df-convert {\n",
              "      background-color: #3B4455;\n",
              "      fill: #D2E3FC;\n",
              "    }\n",
              "\n",
              "    [theme=dark] .colab-df-convert:hover {\n",
              "      background-color: #434B5C;\n",
              "      box-shadow: 0px 1px 3px 1px rgba(0, 0, 0, 0.15);\n",
              "      filter: drop-shadow(0px 1px 2px rgba(0, 0, 0, 0.3));\n",
              "      fill: #FFFFFF;\n",
              "    }\n",
              "  </style>\n",
              "\n",
              "      <script>\n",
              "        const buttonEl =\n",
              "          document.querySelector('#df-99d67572-ae58-4c71-b05e-dd2aa8ade84c button.colab-df-convert');\n",
              "        buttonEl.style.display =\n",
              "          google.colab.kernel.accessAllowed ? 'block' : 'none';\n",
              "\n",
              "        async function convertToInteractive(key) {\n",
              "          const element = document.querySelector('#df-99d67572-ae58-4c71-b05e-dd2aa8ade84c');\n",
              "          const dataTable =\n",
              "            await google.colab.kernel.invokeFunction('convertToInteractive',\n",
              "                                                     [key], {});\n",
              "          if (!dataTable) return;\n",
              "\n",
              "          const docLinkHtml = 'Like what you see? Visit the ' +\n",
              "            '<a target=\"_blank\" href=https://colab.research.google.com/notebooks/data_table.ipynb>data table notebook</a>'\n",
              "            + ' to learn more about interactive tables.';\n",
              "          element.innerHTML = '';\n",
              "          dataTable['output_type'] = 'display_data';\n",
              "          await google.colab.output.renderOutput(dataTable, element);\n",
              "          const docLink = document.createElement('div');\n",
              "          docLink.innerHTML = docLinkHtml;\n",
              "          element.appendChild(docLink);\n",
              "        }\n",
              "      </script>\n",
              "    </div>\n",
              "  </div>\n",
              "  "
            ]
          },
          "metadata": {},
          "execution_count": 19
        }
      ]
    },
    {
      "cell_type": "markdown",
      "source": [
        "## Categorical versus numerical variables\n",
        "We have 9 categorical variables (one of them as the target variable to predict) and 6 numerical variables."
      ],
      "metadata": {
        "id": "2gn-Y8LyGpOH"
      }
    },
    {
      "cell_type": "code",
      "source": [
        "categorical_variables = ['workclass', 'education', 'marital-status', 'occupation', 'relationship', 'race', 'sex','native-country']\n",
        "numerical_variables = ['age','fnlwgt','education-num','capital-gain','capital-loss','hours-per-week']"
      ],
      "metadata": {
        "id": "yxYILBd9GjjD"
      },
      "execution_count": 26,
      "outputs": []
    },
    {
      "cell_type": "code",
      "source": [
        "# Plotting histograms for numerical variables\n",
        "for column in numerical_variables:\n",
        "    plt.figure(figsize=(8, 6))\n",
        "    adult[column].hist(bins=20)\n",
        "    plt.title(f'Histogram of {column}')\n",
        "    plt.xlabel(column)\n",
        "    plt.ylabel('Frequency')\n",
        "    plt.show()\n",
        "\n",
        "# Plotting barplots for categorical variables\n",
        "for column in categorical_variables:\n",
        "    plt.figure(figsize=(10, 6))\n",
        "    adult[column].value_counts().plot(kind='bar')\n",
        "    plt.title(f'Barplot of {column}')\n",
        "    plt.xlabel(column)\n",
        "    plt.ylabel('Count')\n",
        "    plt.show()"
      ],
      "metadata": {
        "id": "qgh7TV7HJthE"
      },
      "execution_count": null,
      "outputs": []
    },
    {
      "cell_type": "markdown",
      "source": [
        "### Let's add some box-plot for numerical variables.\n",
        "Waht did you find?"
      ],
      "metadata": {
        "id": "MfaGaMn9LT58"
      }
    },
    {
      "cell_type": "code",
      "source": [
        "numerical_df = adult[numerical_variables]\n",
        "# Creating the box plot using sns boxplot\n",
        "sns.boxplot(data=numerical_df)\n",
        "plt.xticks(rotation=45)\n",
        "plt.show()"
      ],
      "metadata": {
        "colab": {
          "base_uri": "https://localhost:8080/",
          "height": 517
        },
        "id": "duBn6OeeLdIJ",
        "outputId": "789977c6-d27e-4cd2-eb8a-fac29476009b"
      },
      "execution_count": 30,
      "outputs": [
        {
          "output_type": "display_data",
          "data": {
            "text/plain": [
              "<Figure size 640x480 with 1 Axes>"
            ],
            "image/png": "[encoded data removed]"
          },
          "metadata": {}
        }
      ]
    },
    {
      "cell_type": "markdown",
      "source": [
        "## Task 1: remove `fnlwgt` and try again."
      ],
      "metadata": {
        "id": "evpvpPq7sUJe"
      }
    },
    {
      "cell_type": "markdown",
      "source": [
        "## Let's try some correlation visualization"
      ],
      "metadata": {
        "id": "gkvy-H8VKUOT"
      }
    },
    {
      "cell_type": "code",
      "source": [
        "from pandas.plotting import scatter_matrix\n",
        "numerical_df = adult[numerical_variables]\n",
        "\n",
        "# Plotting the scatter matrix\n",
        "# scatter_matrix(numerical_df, figsize=(12, 12), diagonal='hist')\n",
        "sns.pairplot(numerical_df)\n",
        "plt.show()"
      ],
      "metadata": {
        "id": "69Q_BHIoKsSD"
      },
      "execution_count": null,
      "outputs": []
    },
    {
      "cell_type": "markdown",
      "source": [
        "## Task 2: Calculates the linear correlation coefficients of the numerical variables"
      ],
      "metadata": {
        "id": "Xf_MEZ9dwTTC"
      }
    },
    {
      "cell_type": "markdown",
      "source": [
        "## The pure correlation visualization is not very informative, let's try to add a categorical variable on top of it.\n"
      ],
      "metadata": {
        "id": "H6veSlGiLLpR"
      }
    },
    {
      "cell_type": "code",
      "source": [
        "# Creating the scatter matrix plot with different colors for categorical variable levels\n",
        "sns.set(style=\"ticks\")\n",
        "for cat_var in categorical_variables:\n",
        "    sns.pairplot(adult[numerical_variables + [cat_var]], hue=cat_var, plot_kws={\"alpha\": 0.5})\n",
        "    plt.show()\n"
      ],
      "metadata": {
        "id": "wmLOLLq9LJol"
      },
      "execution_count": null,
      "outputs": []
    },
    {
      "cell_type": "markdown",
      "source": [
        "## Task 3: Try to use the target categorical variable to visualize the correlation plot and share your insights."
      ],
      "metadata": {
        "id": "g3fTdwFSzDzs"
      }
    },
    {
      "cell_type": "markdown",
      "source": [
        "### On another hand, try heatmap for categorical variables."
      ],
      "metadata": {
        "id": "onXbb_LYsbK8"
      }
    },
    {
      "cell_type": "code",
      "source": [
        "import plotly.express as px\n",
        "\n",
        "categorical_variables = ['workclass', 'education', 'marital-status', 'occupation', 'relationship', 'race', 'sex', 'native-country']\n",
        "\n",
        "# Creating a cross-tabulation of the categorical variables\n",
        "cross_tab = pd.crosstab(adult[categorical_variables[0]], adult[categorical_variables[1]])\n",
        "\n",
        "# Creating the interactive heatmap using plotly.express\n",
        "fig = px.imshow(cross_tab.values,\n",
        "                labels=dict(x=categorical_variables[1], y=categorical_variables[0]),\n",
        "                x=cross_tab.columns,\n",
        "                y=cross_tab.index,\n",
        "                color_continuous_scale='Blues')\n",
        "\n",
        "fig.update_layout(title='Categorical Variables Heatmap')\n",
        "fig.show()\n"
      ],
      "metadata": {
        "id": "SmfSZ6hgsarC"
      },
      "execution_count": null,
      "outputs": []
    },
    {
      "cell_type": "markdown",
      "source": [
        "# Let's try to use other values to represent the color density.\n",
        "How about average number of education."
      ],
      "metadata": {
        "id": "5jjjBmkgt_hs"
      }
    },
    {
      "cell_type": "code",
      "source": [
        "import plotly.graph_objects as go\n",
        "averages = adult.groupby(categorical_variables)['education-num'].mean().reset_index()\n",
        "\n",
        "# Create the interactive heatmap using plotly.express\n",
        "fig = go.Figure(data=go.Heatmap(\n",
        "    x=averages[categorical_variables[1]],\n",
        "    y=averages[categorical_variables[0]],\n",
        "    z=averages['education-num'],\n",
        "    colorscale='Blues'))\n",
        "\n",
        "fig.update_layout(\n",
        "    xaxis=dict(title=categorical_variables[1]),\n",
        "    yaxis=dict(title=categorical_variables[0]),\n",
        "    title='Categorical Variables Heatmap')\n",
        "\n",
        "fig.show()"
      ],
      "metadata": {
        "id": "MKpQWXYWtoJP"
      },
      "execution_count": null,
      "outputs": []
    },
    {
      "cell_type": "markdown",
      "source": [
        "## Task 4: Calculate and visualize average hours worked per week by race and sex."
      ],
      "metadata": {
        "id": "ruPRdqEJxdh4"
      }
    },
    {
      "cell_type": "markdown",
      "source": [
        "## Task 5:  Write the SQL query that will create the data for your task 3, querying the so-called `adult` table."
      ],
      "metadata": {
        "id": "ccaOXHFGwIva"
      }
    },
    {
      "cell_type": "markdown",
      "source": [
        "What will DEAC 108 Cover\n",
        "\n",
        "1. Perform multivariate regression analysis.\n",
        "2. Perform simple discriminant analysis.\n",
        "3. Perform principal component analysis.\n",
        "4. Perform basic clustering analysis."
      ],
      "metadata": {
        "id": "yErftZ-wyuPg"
      }
    }
  ]
}