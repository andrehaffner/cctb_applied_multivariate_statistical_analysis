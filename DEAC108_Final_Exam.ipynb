{
 "cells": [
  {
   "cell_type": "code",
   "execution_count": null,
   "metadata": {
    "collapsed": true,
    "pycharm": {
     "is_executing": true
    }
   },
   "outputs": [],
   "source": [
    "import pandas as pd\n",
    "import matplotlib.pyplot as plt\n",
    "import seaborn as sns\n",
    "data = pd.read_csv('online_shoppers_intention.csv')  # Replace with your dataset file path\n"
   ]
  },
  {
   "cell_type": "code",
   "execution_count": null,
   "outputs": [],
   "source": [
    "# Exploratory Data Analysis\n",
    "\n",
    "print(data.head())\n",
    "print(data.shape)\n",
    "print(data.info())\n",
    "print(data.describe())\n",
    "print(data.isnull().sum())\n",
    "\n",
    "data.hist()\n",
    "plt.show()\n",
    "\n",
    "sns.countplot(x='column_name', data=data)\n",
    "plt.show()\n",
    "\n",
    "sns.scatterplot(x='column1', y='column2', data=data)\n",
    "plt.show()\n",
    "\n",
    "sns.pairplot(data)\n",
    "plt.show()\n",
    "\n",
    "correlation_matrix = data.corr()\n",
    "sns.heatmap(correlation_matrix, annot=True)\n",
    "plt.show()\n"
   ],
   "metadata": {
    "collapsed": false
   }
  },
  {
   "cell_type": "code",
   "execution_count": null,
   "outputs": [],
   "source": [
    "# Clustering\n",
    "from sklearn.preprocessing import StandardScaler\n",
    "from sklearn.cluster import KMeans\n",
    "from sklearn.metrics import silhouette_score\n",
    "\n",
    "# Assuming you have a numerical dataset 'data' with columns as variables\n",
    "numerical_data = data[['Administrative','Administrative_Duration','Informational','Informational_Duration','ProductRelated','ProductRelated_Duration','BounceRates','ExitRates','PageValues','SpecialDay']]\n",
    "\n",
    "scaler = StandardScaler()\n",
    "standardized_data = scaler.fit_transform(numerical_data)\n",
    "\n",
    "silhouette_scores = []\n",
    "for k in range(2, 9):\n",
    "    kmeans = KMeans(n_clusters=k, random_state=42, n_init='auto')\n",
    "    kmeans.fit(standardized_data)\n",
    "    labels = kmeans.labels_\n",
    "    silhouette_scores.append(silhouette_score(standardized_data, labels))\n",
    "\n",
    "best_k = silhouette_scores.index(max(silhouette_scores)) + 2\n",
    "print(f\"Best K: {best_k}\")\n"
   ],
   "metadata": {
    "collapsed": false,
    "pycharm": {
     "is_executing": true
    }
   }
  }
 ],
 "metadata": {
  "kernelspec": {
   "display_name": "Python 3",
   "language": "python",
   "name": "python3"
  },
  "language_info": {
   "codemirror_mode": {
    "name": "ipython",
    "version": 2
   },
   "file_extension": ".py",
   "mimetype": "text/x-python",
   "name": "python",
   "nbconvert_exporter": "python",
   "pygments_lexer": "ipython2",
   "version": "2.7.6"
  }
 },
 "nbformat": 4,
 "nbformat_minor": 0
}
